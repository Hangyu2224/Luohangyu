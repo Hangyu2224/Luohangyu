{
 "cells": [
  {
   "cell_type": "markdown",
   "metadata": {},
   "source": [
    "# Introduction to Artificial Intelligence for Non Computing"
   ]
  },
  {
   "cell_type": "markdown",
   "metadata": {},
   "source": [
    "## Practical 2 (weeks 3 - 4)"
   ]
  },
  {
   "cell_type": "markdown",
   "metadata": {},
   "source": [
    "## Search Techniques"
   ]
  },
  {
   "cell_type": "markdown",
   "metadata": {},
   "source": [
    "The following links provide additional information about depth first search and breath first search"
   ]
  },
  {
   "cell_type": "markdown",
   "metadata": {},
   "source": [
    "- Depth first search:   link：https://pan.baidu.com/s/1bkLHKKbSBNpfFuKwDyURqw  password：oy76\n",
    "- Breath first search:  link：https://pan.baidu.com/s/176g5q0W3rGbSAM5tZMraeg   password：7mdh"
   ]
  },
  {
   "cell_type": "markdown",
   "metadata": {},
   "source": [
    "#### Theory Questions "
   ]
  },
  {
   "cell_type": "markdown",
   "metadata": {},
   "source": [
    "1\\. What is an algorithm? A sequence of steps such as a recipe or a movie script.\n",
    "\n",
    "As a movie viewer, please write an algorithm for a process to \"see a movie\". Include details of the following for example (add additional information yourself):\n",
    "\t- The start conditions \n",
    "\t-- I want to watch a movie\n",
    "\t- Roles (people/actors involved) \n",
    "    --watcher, ticket seller etc \n",
    "    -Equipment required (\"props\")\n",
    "    --seats, ticket etc\n",
    "    - The scenes \n",
    "    -- scene 1 - buy ticket \n",
    "    -- ??? what happens next\n",
    "    -- scene 3, scene 3 ...\n",
    "    - Results/outcomes\n",
    "    -- ?\n"
   ]
  },
  {
   "cell_type": "markdown",
   "metadata": {},
   "source": [
    "_your answer here..._ \n",
    "\n",
    "***"
   ]
  },
  {
   "cell_type": "code",
   "execution_count": 4,
   "metadata": {},
   "outputs": [
    {
     "ename": "SyntaxError",
     "evalue": "invalid syntax (<ipython-input-4-23cd9272b9b6>, line 1)",
     "output_type": "error",
     "traceback": [
      "\u001b[1;36m  File \u001b[1;32m\"<ipython-input-4-23cd9272b9b6>\"\u001b[1;36m, line \u001b[1;32m1\u001b[0m\n\u001b[1;33m    -The start conditions\u001b[0m\n\u001b[1;37m             ^\u001b[0m\n\u001b[1;31mSyntaxError\u001b[0m\u001b[1;31m:\u001b[0m invalid syntax\n"
     ]
    }
   ],
   "source": [
    "-The start conditions\n",
    "--I have enough money and time to watch a movie\n",
    "--I want to watch a movie\n",
    "-Roles(People/actors involved)\n",
    "--audience, ticket sellers, ticket inspector\n",
    "-Equipmnet required(\"props\")\n",
    "--tickets, eats, projection equipment\n",
    "-The scenes\n",
    "--scene 1 - buy ticket\n",
    "--scene 2 - go to the cinema\n",
    "--scene 3 - find the seat and sit down\n",
    "--scene 4 - watch the movie\n",
    "--scene 6 - leave the cinema\n",
    "-Results/outcomes\n",
    "--My money is reduced\n",
    "--I learn something from the movie"
   ]
  },
  {
   "cell_type": "markdown",
   "metadata": {},
   "source": [
    "2. A farmer with his wolf, duck and bag of corn come to the east side of a river they wish to cross. There is a boat at the rivers edge, but of course only the farmer can row. The boat can only hold two things (including the rower) at any one time. If the wolf is ever left alone with the duck, the wolf will eat it. Similarly if the duck is ever left alone with the corn, the duck will eat it. How can the farmer get across the river so that all four arrive safely on the other side? "
   ]
  },
  {
   "cell_type": "markdown",
   "metadata": {},
   "source": [
    "_your answer here..._\n",
    "***"
   ]
  },
  {
   "cell_type": "code",
   "execution_count": null,
   "metadata": {},
   "outputs": [],
   "source": [
    "-Farmer is standing in the east side of the river with his wolf, duck and bag of corn\n",
    "-Farmer takes the duck to the west side of the river\n",
    "-Farmer return to the east side of the river alone\n",
    "-Farmer takes wolf to the west side of the river\n",
    "-Farmer retuen to the east side of the river with the duck\n",
    "-Farmer takes the corn to the west side of the river\n",
    "-Farmer return to the east side of the river along\n",
    "-Farmer takes the duck to the west side of the river\n",
    "-Farmer is standing in the west side of the river with his wolf, duck and bag of corn"
   ]
  },
  {
   "cell_type": "markdown",
   "metadata": {},
   "source": [
    " "
   ]
  },
  {
   "cell_type": "markdown",
   "metadata": {},
   "source": [
    "3\\.Explain why we determine our problem goals before we write the problem formulation (including the model and deciding what algorithm or techniques to use - for example search, or other method).\n",
    "\n",
    "See Chapter3.1 (Russel & Norvig)"
   ]
  },
  {
   "cell_type": "markdown",
   "metadata": {},
   "source": [
    "_your answer here..._ \n",
    "We consider a goal to be a set of world states in which the goal is satisfied. Our task is to find out how to act, now and in the future, so that it reaches a goal state. Before it can do this, it needs to decide (or we need to decide on its behalf) what sorts of actions and states it should consider. And goals help organize behavior by limiting the objectives that the agent is trying to achieve and hence the actions it needs to consider. As a result, goal formulation, based on the current situation and the agent’s performancemeasure, is the first step in problem solving.\n",
    "****"
   ]
  },
  {
   "cell_type": "markdown",
   "metadata": {},
   "source": [
    "4\\. This question requires you to perform BFS and DFS on paper.\n",
    "\n",
    "<img src=\"img/p1.png\" width=\"180\" height=\"180\" >\n",
    "\n",
    "1. Simulate (on pencil-and-paper) breadth-first search starting from node A when the goal node is K.\n",
    "2. Simulate (on pencil-and-paper) depth first search starting from node A when the goal node is I.\n"
   ]
  },
  {
   "cell_type": "markdown",
   "metadata": {},
   "source": [
    "1. _your answer here..._ \n",
    "2. _your answer here..._ \n",
    "\n",
    "***"
   ]
  },
  {
   "cell_type": "markdown",
   "metadata": {},
   "source": [
    "4.\n",
    "1. BFS(right hand rule):A B C D E F H G I K  K = goal\n",
    "2. DFS(right hand rule):A B C E F D H I K G  I = goal"
   ]
  },
  {
   "cell_type": "markdown",
   "metadata": {},
   "source": [
    "5\\.Consider a state space where the start state is number 1 and each state  k has two successors: numbers 2k and 2k + 1.\n",
    "- a. Draw the portion of the state space for states 1 to 15.\n",
    "- b. Suppose the goal state is 11. List the order in which nodes will be visited for breadthfirst\n",
    "search, depth-limited search with limit 3, and iterative deepening search.\n",
    "- c. How well would bidirectional search work on this problem? What is the branching\n",
    "factor in each direction of the bidirectional search?\n",
    "- d. Does the answer to (c) suggest a reformulation of the problem that would allow you to\n",
    "solve the problem of getting from state 1 to a given goal state with almost no search?\n",
    "- e. Call the action going from k to 2k Left, and the action going to 2k + 1 Right. Can you\n",
    "find an algorithm that outputs the solution to this problem without any search at all?\n",
    "\n",
    "See textbook Chapter3.15"
   ]
  },
  {
   "cell_type": "markdown",
   "metadata": {},
   "source": [
    "_your answer here..._ "
   ]
  },
  {
   "cell_type": "code",
   "execution_count": null,
   "metadata": {},
   "outputs": [],
   "source": [
    "5.\n",
    "a. \n",
    "1 - 2，3 - 4，5，6，7 - 8，9，10，11，12，13，14，15\n",
    "b. \n",
    "BFS(right hand rule): 1 2 3 4 5 6 7 8 9 10 11\n",
    "DFS(right hand rule): 1 2 4 8 9 5 10 11\n",
    "iterative deepening search: \n",
    "0: 1\n",
    "1: 1 2 3\n",
    "2: 1 2 4 5 3 6 7\n",
    "3: 1 2 4 8 9 5 10 11\n",
    "c. \n",
    "Bidirectional search is very useful, because the only success of n in the reverse direction is [(n/2)].\n",
    "This helps focus the search. The branching factor is 2 in the forward direction; 1 in the reverse direction.\n",
    "d. \n",
    "Yes;start at the goal and apply the single reverse successor action until you reach 1.\n",
    "e. \n",
    "The solution can be read off the binary numeral for the goal number. Write the goal number in binary. \n",
    "Since we can only reach positive intergers, this binary expansion beings with a 1. From most- to \n",
    "least- significant bit, skipping the initial 1, go left to the node 2n if this bit is 0 and go Right \n",
    "to node 2n+1 if it is 1.For example, suppose the goal is 11,which is 1011 in binary. The solution is \n",
    "therefore Left, Right, Right."
   ]
  },
  {
   "cell_type": "markdown",
   "metadata": {},
   "source": [
    "### Programming Excercises"
   ]
  },
  {
   "cell_type": "markdown",
   "metadata": {},
   "source": [
    "1\\.Write a program to solve a classic ancient Chinese puzzle:  \n",
    " We count 35 heads and 94 legs among the chickens and rabbits in a farm. How many rabbits and how many chickens do we have? "
   ]
  },
  {
   "cell_type": "code",
   "execution_count": 6,
   "metadata": {},
   "outputs": [
    {
     "name": "stdout",
     "output_type": "stream",
     "text": [
      "we have 23 chickens and 12 rabbits.\n"
     ]
    }
   ],
   "source": [
    "##Hint:Use for loop to iterate all possible\n",
    "## write your answer here!\n",
    "for a in range (0,36):\n",
    "    b = 35-a\n",
    "    if (2*a+4*b)==94:\n",
    "       print ('we have '+str(a)+' chickens '+'and '+str(b)+' rabbits.')"
   ]
  },
  {
   "cell_type": "markdown",
   "metadata": {},
   "source": [
    "2\\. _Social networking_ Please look at the graph below of social relationships. You have a mango farm, you need to find a mango buyer and sell him your mango that you have grown (just a small farm). To this end, our principle is to use our social network of friends separated by one degree, and then second degree friends (friends of friends), third degree friends (friends of friends of friends).\n",
    "\n",
    "Use the depth first algorithm to search your network until you find a mango seller. \n",
    "\n",
    "We make an assumption that if the person's name ends with m, then it means the person must be the mango seller!\n",
    "\n",
    "\n",
    "<img src=\"img/p3.png\" width=\"500\" height=\"400\" >"
   ]
  },
  {
   "cell_type": "code",
   "execution_count": 8,
   "metadata": {},
   "outputs": [],
   "source": [
    "## write your answer here!\n",
    "## write your answer here!\n",
    "def DFS_network(root):\n",
    "    stack = Stack()\n",
    "    stack.push(root)\n",
    "    visited=[]\n",
    "    while not stack.isEmpty():\n",
    "        current = stack.pop()\n",
    "        if current.endName == 'm':\n",
    "            return current\n",
    "        if current not in visited:\n",
    "            visited.append(current)\n",
    "            neighbor = current.getNext()\n",
    "            for node in neighbor:\n",
    "                if node.endName == 'm':\n",
    "                    return node\n",
    "                else:\n",
    "                    stack.push(node)"
   ]
  },
  {
   "cell_type": "markdown",
   "metadata": {},
   "source": [
    "3\\. Depth First traverse：Use depth first traversal to traverse all the DLL files on the C disk and output the file names.\n",
    "\n",
    "Update your code to search for a particular filename.\n",
    "\n",
    "What protocol did you use to select the next node to expand on the fringe?"
   ]
  },
  {
   "cell_type": "code",
   "execution_count": null,
   "metadata": {},
   "outputs": [
    {
     "name": "stdout",
     "output_type": "stream",
     "text": [
      "/Users/Luohangyu/Desktop\\psiphon3.exe\n",
      "/Users/Luohangyu/Desktop\\pycharm-professional-2018.2.2.exe\n",
      "/Users/Luohangyu/Desktop\\Assignment1_AI\\venv\\Scripts\\easy_install-2.7.exe\n",
      "/Users/Luohangyu/Desktop\\Assignment1_AI\\venv\\Scripts\\easy_install.exe\n",
      "/Users/Luohangyu/Desktop\\Assignment1_AI\\venv\\Scripts\\pip.exe\n",
      "/Users/Luohangyu/Desktop\\Assignment1_AI\\venv\\Scripts\\pip2.7.exe\n",
      "/Users/Luohangyu/Desktop\\Assignment1_AI\\venv\\Scripts\\pip2.exe\n",
      "/Users/Luohangyu/Desktop\\Assignment1_AI\\venv\\Scripts\\python.exe\n",
      "/Users/Luohangyu/Desktop\\Assignment1_AI\\venv\\Scripts\\pythonw.exe\n",
      "/Users/Luohangyu/Desktop\\Assignment1_AI\\venv\\Scripts\\wheel.exe\n",
      "/Users/Luohangyu/Desktop\\Assignment1_AI\\venv\\Lib\\site-packages\\setuptools\\cli-32.exe\n",
      "/Users/Luohangyu/Desktop\\Assignment1_AI\\venv\\Lib\\site-packages\\setuptools\\cli-64.exe\n",
      "/Users/Luohangyu/Desktop\\Assignment1_AI\\venv\\Lib\\site-packages\\setuptools\\cli.exe\n",
      "/Users/Luohangyu/Desktop\\Assignment1_AI\\venv\\Lib\\site-packages\\setuptools\\gui-32.exe\n",
      "/Users/Luohangyu/Desktop\\Assignment1_AI\\venv\\Lib\\site-packages\\setuptools\\gui-64.exe\n",
      "/Users/Luohangyu/Desktop\\Assignment1_AI\\venv\\Lib\\site-packages\\setuptools\\gui.exe\n",
      "/Users/Luohangyu/Desktop\\Assignment1_AI\\venv\\Lib\\site-packages\\pip\\_vendor\\distlib\\t32.exe\n",
      "/Users/Luohangyu/Desktop\\Assignment1_AI\\venv\\Lib\\site-packages\\pip\\_vendor\\distlib\\t64.exe\n",
      "/Users/Luohangyu/Desktop\\Assignment1_AI\\venv\\Lib\\site-packages\\pip\\_vendor\\distlib\\w32.exe\n",
      "/Users/Luohangyu/Desktop\\Assignment1_AI\\venv\\Lib\\site-packages\\pip\\_vendor\\distlib\\w64.exe\n"
     ]
    }
   ],
   "source": [
    "## write your answer here!\n",
    "import os\n",
    "def dfs_search(start):\n",
    "    stack = []\n",
    "    stack.append(start)\n",
    "    while len(stack) > 0:\n",
    "        current = stack.pop()\n",
    "        fileList = os.listdir(current)\n",
    "        for i in fileList:\n",
    "            absPath = os.path.join(current, i)\n",
    "            if os.path.isdir(absPath):\n",
    "                stack.append(absPath)\n",
    "            else:\n",
    "                end = str(absPath).split('.')\n",
    "                test = end[len(end)-1]\n",
    "                if test == 'exe':\n",
    "                    print(absPath)\n",
    "start = '/Users/Luohangyu/Desktop'\n",
    "dfs_search(start)"
   ]
  },
  {
   "cell_type": "markdown",
   "metadata": {},
   "source": [
    "4\\.\n",
    "Breadth First traverse：Use breadth traversal to traverse all the DLL files on the C disk and output the filename.\n",
    "\n",
    "Update your code to search for a particular filename."
   ]
  },
  {
   "cell_type": "code",
   "execution_count": 21,
   "metadata": {},
   "outputs": [
    {
     "name": "stdout",
     "output_type": "stream",
     "text": [
      "/Users/Luohangyu/Desktop\\Homework2\\Main.java\n",
      "/Users/Luohangyu/Desktop\\Homework2\\Runningtime.java\n"
     ]
    }
   ],
   "source": [
    "## write your answer here!\n",
    "## write your answer here!\n",
    "from collections import deque\n",
    "import os\n",
    "def bfs_search(start):\n",
    "    queue = deque()\n",
    "    queue.append(start)\n",
    "    while queue:\n",
    "        current = queue.popleft()\n",
    "        fileList = os.listdir(current)\n",
    "        for i in fileList:\n",
    "            absPath = os.path.join(current, i)\n",
    "            if os.path.isdir(absPath):\n",
    "                queue.append(absPath)\n",
    "            else:\n",
    "                end = str(absPath).split('.')\n",
    "                test = end[len(end)-1]\n",
    "                if test == 'java':\n",
    "                    print(absPath)\n",
    "start = '/Users/Luohangyu/Desktop'\n",
    "bfs_search(start)"
   ]
  },
  {
   "cell_type": "markdown",
   "metadata": {},
   "source": [
    "5\\. Uniform cost search"
   ]
  },
  {
   "cell_type": "markdown",
   "metadata": {},
   "source": [
    "Consider a state space where the start state is 2 and each state k has three successors: numbers 2k, 2k+1, 2k+2. The cost from state k to each respective child is k, ground(k/2), k+2.\n",
    "\n",
    "can you implement a uniform-cost-search algorithm with python. The goal state is number 85."
   ]
  },
  {
   "cell_type": "code",
   "execution_count": 28,
   "metadata": {},
   "outputs": [
    {
     "name": "stdout",
     "output_type": "stream",
     "text": [
      "53\n"
     ]
    }
   ],
   "source": [
    "##5.\n",
    "import math\n",
    "goal = 85\n",
    "state = [-1] * (goal + 1)\n",
    "state[2] = 0\n",
    "for k in range(2, int(goal/2 + 1)):\n",
    "    if state[k] < 0:continue\n",
    "    for pos, cost in [ \n",
    "        (k*2, k),\n",
    "        (k*2 + 1, math.floor(k/2)), \n",
    "        (k*2+2, k+2)]:\n",
    "        if pos > goal:continue\n",
    "        if state[pos] == -1 or state[pos] > state[k] + cost:\n",
    "            state[pos] = state[k] + cost\n",
    "print(state[goal])"
   ]
  },
  {
   "cell_type": "markdown",
   "metadata": {},
   "source": [
    "6\\.a* question"
   ]
  },
  {
   "cell_type": "markdown",
   "metadata": {},
   "source": [
    "A cute cat stays in the A position, he is hungry. But the food is placed in the B position. Can you help him to find the food? \n",
    "Hint:  The problem isn't easy. It's essential for you to understand the A* algorithm before you solve this problem. Then, you can use some thought of Node in java, when you are in code.\n",
    "\n",
    "<img src=\"img/p4.png\" width=\"500\" height=\"400\" >\n"
   ]
  },
  {
   "cell_type": "code",
   "execution_count": null,
   "metadata": {},
   "outputs": [],
   "source": [
    "## write your answer here!"
   ]
  }
 ],
 "metadata": {
  "kernelspec": {
   "display_name": "Python 3",
   "language": "python",
   "name": "python3"
  },
  "language_info": {
   "codemirror_mode": {
    "name": "ipython",
    "version": 3
   },
   "file_extension": ".py",
   "mimetype": "text/x-python",
   "name": "python",
   "nbconvert_exporter": "python",
   "pygments_lexer": "ipython3",
   "version": "3.6.5"
  }
 },
 "nbformat": 4,
 "nbformat_minor": 2
}
